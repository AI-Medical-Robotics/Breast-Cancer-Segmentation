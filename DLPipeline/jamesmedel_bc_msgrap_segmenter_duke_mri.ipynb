{
 "cells": [
  {
   "cell_type": "markdown",
   "id": "27cce5bc",
   "metadata": {},
   "source": [
    "# Breast Cancer Segmentation with MSGRAP\n",
    "\n",
    "We will designing and developing MSGRAP DL segmentation model based on H. Lee's research paper. We will adapt it to be trained on breast cancer MRI dataset since H. Lee originally trained it on breast cancer ultrasound images. We will note down the differences as we work out the implementation.\n",
    "\n",
    "- Dynamic contrast-enhanced magnetic resonance images of breast cancer patients with tumor locations - Imaging Cancer Archive - **Duke-Breast-Cancer-MRI Dataset**: https://wiki.cancerimagingarchive.net/pages/viewpage.action?pageId=70226903\n",
    "\n",
    "\n",
    "[1] H. Lee, J. Park and J. Y. Hwang, \"Channel Attention Module With Multiscale Grid Average Pooling for Breast Cancer Segmentation in an Ultrasound Image,\" in IEEE Transactions on Ultrasonics, Ferroelectrics, and Frequency Control, vol. 67, no. 7, pp. 1344-1353, July 2020, doi: 10.1109/TUFFC.2020.2972573\n",
    "\n",
    "Referenced 2D Channel - Spatial Attention (Squeeze & Excite) VGG based TensorFlow Keras code in tutorial Attending to Channels Using Keras and TensorFlow\n",
    "\n",
    "The segmentation mask files in this supplemental folder have the following naming scheme:\n",
    "\n",
    "- `Breast_MRI_{patient_ID}_{segmentation_tissue_target}.seg.nrrd`\n",
    "\n",
    "~~~bash\n",
    "# Folder Structure\n",
    "\n",
    ".\n",
    "├── Segmentation_Masks_NRRD       \t\t           \t\t\t\t\t# Directory containing true segmentation masks\n",
    "│   ├── Breast_MRI_002       \t\t\t\t\t\t\t\t\t\t# Subject directory containing breast, FGT, and blood vessel mask\n",
    "│   |   ├── Segmentation_Breast_MRI_002_Breast.seg.nrrd \t\t\t# Breast mask for subject Breast_MRI_002\n",
    "│   |   ├── Segmentation_Breast_MRI_002_Dense_and_Vessels.seg.nrrd  # FGT and blood vessel mask for subject Breast_MRI_002\n",
    "│   ...\n",
    "~~~\n",
    "\n",
    "\n",
    "## Outline¶\n",
    "\n",
    "- Prepare Tcia Breast Diagnosis Data\n",
    "- Breast Segmentation Model Architecture\n",
    "- Train Breast Segmentation ML/DL Models\n",
    "- Evaluate Breast Segmentation ML/DL Models Quantitatively\n",
    "- Evaluate Breast Segmentation ML/DL Models Qualitatively\n",
    "- Deploy Breast Segmentation DL Model for Inference"
   ]
  },
  {
   "cell_type": "code",
   "execution_count": 1,
   "id": "33819954",
   "metadata": {},
   "outputs": [],
   "source": [
    "import tensorflow as tf\n",
    "# tf.compat.v1.enable_eager_execution()\n",
    "from tensorflow import keras\n",
    "from tensorflow.keras.layers import *\n",
    "from tensorflow.keras.preprocessing import image\n",
    "from tensorflow.keras.models import Model, load_model\n",
    "from tensorflow.keras.layers import UpSampling2D\n",
    "from tensorflow.keras.layers import MaxPooling2D, GlobalAveragePooling2D\n",
    "from tensorflow.keras.layers import concatenate,Dropout\n",
    "from tensorflow.keras.layers import Multiply, MaxPooling2D, GlobalMaxPooling2D\n",
    "from tensorflow.keras.callbacks import EarlyStopping, ModelCheckpoint\n",
    "from tensorflow.keras import backend as K\n",
    "from tensorflow.keras.layers import Input, Add, Dense, Activation, ZeroPadding2D\n",
    "from tensorflow.keras.layers import BatchNormalization, Flatten, Conv2D, AveragePooling2D\n",
    "from tensorflow.keras.models import Model, load_model\n",
    "from tensorflow.keras.callbacks import EarlyStopping, ModelCheckpoint, ReduceLROnPlateau\n",
    "from tensorflow.keras.utils import plot_model\n",
    "from tensorflow.keras.initializers import glorot_uniform\n",
    "from tensorflow.keras.optimizers import Adam\n",
    "from keras.callbacks import ModelCheckpoint\n",
    "from tensorflow.keras.preprocessing.image import ImageDataGenerator"
   ]
  },
  {
   "cell_type": "code",
   "execution_count": 2,
   "id": "e5298274",
   "metadata": {},
   "outputs": [],
   "source": [
    "import pandas as pd\n",
    "import numpy as np\n",
    "import os\n",
    "import pydicom as dicom\n",
    "from tqdm import tqdm\n",
    "from skimage.io import imsave\n",
    "import matplotlib.pylab as plt\n",
    "from random import choice\n",
    "from glob import glob"
   ]
  },
  {
   "cell_type": "markdown",
   "id": "e0705c76",
   "metadata": {},
   "source": [
    "## Prepare Duke's Breast Cancer MRI Seg Data\n",
    "\n",
    "### Load Breast Cancer MRI Metadata CSV"
   ]
  },
  {
   "cell_type": "code",
   "execution_count": 3,
   "id": "58f18d8e",
   "metadata": {},
   "outputs": [],
   "source": [
    "duke_bc_base_dir = os.path.join(\"/media\",\"james\", \"My Passport\",\n",
    "    \"Jetson_TX2_CMPE258\", \"duke-breast-cancer-mri\")\n",
    "\n",
    "# data_path is duke_bc_data_dir\n",
    "duke_bc_data_dir = duke_bc_base_dir + \\\n",
    "    os.path.join(\"/Duke-Breast-Cancer-MRI_v2_20220609\", \n",
    "                 \"manifest-1654812109500\")\n",
    "seg_file_mapping = \"segmentation_filepath_mapping.csv\"\n",
    "\n",
    "# data path to breast cancer, FGT/Dense and tissue segmentation masks\n",
    "duke_bc_seg_data_dir = os.path.join(duke_bc_base_dir, \n",
    "    \"Duke-Breast-Cancer-MRI-Supplement-v3\", \"Segmentation_Masks_NRRD\")"
   ]
  },
  {
   "cell_type": "code",
   "execution_count": 4,
   "id": "204830e2",
   "metadata": {},
   "outputs": [
    {
     "data": {
      "text/html": [
       "<div>\n",
       "<style scoped>\n",
       "    .dataframe tbody tr th:only-of-type {\n",
       "        vertical-align: middle;\n",
       "    }\n",
       "\n",
       "    .dataframe tbody tr th {\n",
       "        vertical-align: top;\n",
       "    }\n",
       "\n",
       "    .dataframe thead th {\n",
       "        text-align: right;\n",
       "    }\n",
       "</style>\n",
       "<table border=\"1\" class=\"dataframe\">\n",
       "  <thead>\n",
       "    <tr style=\"text-align: right;\">\n",
       "      <th></th>\n",
       "      <th>Series UID</th>\n",
       "      <th>Collection</th>\n",
       "      <th>3rd Party Analysis</th>\n",
       "      <th>Data Description URI</th>\n",
       "      <th>Subject ID</th>\n",
       "      <th>Study UID</th>\n",
       "      <th>Study Description</th>\n",
       "      <th>Study Date</th>\n",
       "      <th>Series Description</th>\n",
       "      <th>Manufacturer</th>\n",
       "      <th>Modality</th>\n",
       "      <th>SOP Class Name</th>\n",
       "      <th>SOP Class UID</th>\n",
       "      <th>Number of Images</th>\n",
       "      <th>File Size</th>\n",
       "      <th>File Location</th>\n",
       "      <th>Download Timestamp</th>\n",
       "    </tr>\n",
       "  </thead>\n",
       "  <tbody>\n",
       "    <tr>\n",
       "      <th>0</th>\n",
       "      <td>1.3.6.1.4.1.14519.5.2.1.1754149663016455182384...</td>\n",
       "      <td>Duke-Breast-Cancer-MRI</td>\n",
       "      <td>NO</td>\n",
       "      <td>https://doi.org/10.7937/TCIA.e3svre93</td>\n",
       "      <td>Breast_MRI_001</td>\n",
       "      <td>1.3.6.1.4.1.14519.5.2.1.1860515210678639712695...</td>\n",
       "      <td>MRI BREAST BILATERAL WWO</td>\n",
       "      <td>01-01-1990</td>\n",
       "      <td>ax t1 tse c</td>\n",
       "      <td>SIEMENS</td>\n",
       "      <td>MR</td>\n",
       "      <td>MR Image Storage</td>\n",
       "      <td>1.2.840.10008.5.1.4.1.1.4</td>\n",
       "      <td>42</td>\n",
       "      <td>5.60 MB</td>\n",
       "      <td>./Duke-Breast-Cancer-MRI/Breast_MRI_001/01-01-...</td>\n",
       "      <td>2022-11-20T08:47:56.032</td>\n",
       "    </tr>\n",
       "    <tr>\n",
       "      <th>1</th>\n",
       "      <td>1.3.6.1.4.1.14519.5.2.1.1857778498036652445367...</td>\n",
       "      <td>Duke-Breast-Cancer-MRI</td>\n",
       "      <td>NO</td>\n",
       "      <td>https://doi.org/10.7937/TCIA.e3svre93</td>\n",
       "      <td>Breast_MRI_001</td>\n",
       "      <td>1.3.6.1.4.1.14519.5.2.1.1860515210678639712695...</td>\n",
       "      <td>MRI BREAST BILATERAL WWO</td>\n",
       "      <td>01-01-1990</td>\n",
       "      <td>ax dyn pre</td>\n",
       "      <td>SIEMENS</td>\n",
       "      <td>MR</td>\n",
       "      <td>MR Image Storage</td>\n",
       "      <td>1.2.840.10008.5.1.4.1.1.4</td>\n",
       "      <td>160</td>\n",
       "      <td>64.60 MB</td>\n",
       "      <td>./Duke-Breast-Cancer-MRI/Breast_MRI_001/01-01-...</td>\n",
       "      <td>2022-11-20T08:48:51.95</td>\n",
       "    </tr>\n",
       "    <tr>\n",
       "      <th>2</th>\n",
       "      <td>1.3.6.1.4.1.14519.5.2.1.1072629657499780353316...</td>\n",
       "      <td>Duke-Breast-Cancer-MRI</td>\n",
       "      <td>NO</td>\n",
       "      <td>https://doi.org/10.7937/TCIA.e3svre93</td>\n",
       "      <td>Breast_MRI_001</td>\n",
       "      <td>1.3.6.1.4.1.14519.5.2.1.1860515210678639712695...</td>\n",
       "      <td>MRI BREAST BILATERAL WWO</td>\n",
       "      <td>01-01-1990</td>\n",
       "      <td>ax dyn 3rd pass</td>\n",
       "      <td>SIEMENS</td>\n",
       "      <td>MR</td>\n",
       "      <td>MR Image Storage</td>\n",
       "      <td>1.2.840.10008.5.1.4.1.1.4</td>\n",
       "      <td>160</td>\n",
       "      <td>64.61 MB</td>\n",
       "      <td>./Duke-Breast-Cancer-MRI/Breast_MRI_001/01-01-...</td>\n",
       "      <td>2022-11-20T08:48:54.638</td>\n",
       "    </tr>\n",
       "    <tr>\n",
       "      <th>3</th>\n",
       "      <td>1.3.6.1.4.1.14519.5.2.1.1514720349923003958578...</td>\n",
       "      <td>Duke-Breast-Cancer-MRI</td>\n",
       "      <td>NO</td>\n",
       "      <td>https://doi.org/10.7937/TCIA.e3svre93</td>\n",
       "      <td>Breast_MRI_001</td>\n",
       "      <td>1.3.6.1.4.1.14519.5.2.1.1860515210678639712695...</td>\n",
       "      <td>MRI BREAST BILATERAL WWO</td>\n",
       "      <td>01-01-1990</td>\n",
       "      <td>ax dyn 1st pass</td>\n",
       "      <td>SIEMENS</td>\n",
       "      <td>MR</td>\n",
       "      <td>MR Image Storage</td>\n",
       "      <td>1.2.840.10008.5.1.4.1.1.4</td>\n",
       "      <td>160</td>\n",
       "      <td>64.61 MB</td>\n",
       "      <td>./Duke-Breast-Cancer-MRI/Breast_MRI_001/01-01-...</td>\n",
       "      <td>2022-11-20T08:48:56.832</td>\n",
       "    </tr>\n",
       "    <tr>\n",
       "      <th>4</th>\n",
       "      <td>1.3.6.1.4.1.14519.5.2.1.1602809643137194123479...</td>\n",
       "      <td>Duke-Breast-Cancer-MRI</td>\n",
       "      <td>NO</td>\n",
       "      <td>https://doi.org/10.7937/TCIA.e3svre93</td>\n",
       "      <td>Breast_MRI_002</td>\n",
       "      <td>1.3.6.1.4.1.14519.5.2.1.2934485107964891261049...</td>\n",
       "      <td>MRI BREAST BILATERAL W  WO</td>\n",
       "      <td>01-01-1990</td>\n",
       "      <td>ax t1</td>\n",
       "      <td>GE MEDICAL SYSTEMS</td>\n",
       "      <td>MR</td>\n",
       "      <td>MR Image Storage</td>\n",
       "      <td>1.2.840.10008.5.1.4.1.1.4</td>\n",
       "      <td>60</td>\n",
       "      <td>31.59 MB</td>\n",
       "      <td>./Duke-Breast-Cancer-MRI/Breast_MRI_002/01-01-...</td>\n",
       "      <td>2022-11-20T08:49:37.536</td>\n",
       "    </tr>\n",
       "  </tbody>\n",
       "</table>\n",
       "</div>"
      ],
      "text/plain": [
       "                                          Series UID              Collection  \\\n",
       "0  1.3.6.1.4.1.14519.5.2.1.1754149663016455182384...  Duke-Breast-Cancer-MRI   \n",
       "1  1.3.6.1.4.1.14519.5.2.1.1857778498036652445367...  Duke-Breast-Cancer-MRI   \n",
       "2  1.3.6.1.4.1.14519.5.2.1.1072629657499780353316...  Duke-Breast-Cancer-MRI   \n",
       "3  1.3.6.1.4.1.14519.5.2.1.1514720349923003958578...  Duke-Breast-Cancer-MRI   \n",
       "4  1.3.6.1.4.1.14519.5.2.1.1602809643137194123479...  Duke-Breast-Cancer-MRI   \n",
       "\n",
       "  3rd Party Analysis                   Data Description URI      Subject ID  \\\n",
       "0                 NO  https://doi.org/10.7937/TCIA.e3svre93  Breast_MRI_001   \n",
       "1                 NO  https://doi.org/10.7937/TCIA.e3svre93  Breast_MRI_001   \n",
       "2                 NO  https://doi.org/10.7937/TCIA.e3svre93  Breast_MRI_001   \n",
       "3                 NO  https://doi.org/10.7937/TCIA.e3svre93  Breast_MRI_001   \n",
       "4                 NO  https://doi.org/10.7937/TCIA.e3svre93  Breast_MRI_002   \n",
       "\n",
       "                                           Study UID  \\\n",
       "0  1.3.6.1.4.1.14519.5.2.1.1860515210678639712695...   \n",
       "1  1.3.6.1.4.1.14519.5.2.1.1860515210678639712695...   \n",
       "2  1.3.6.1.4.1.14519.5.2.1.1860515210678639712695...   \n",
       "3  1.3.6.1.4.1.14519.5.2.1.1860515210678639712695...   \n",
       "4  1.3.6.1.4.1.14519.5.2.1.2934485107964891261049...   \n",
       "\n",
       "            Study Description  Study Date Series Description  \\\n",
       "0    MRI BREAST BILATERAL WWO  01-01-1990        ax t1 tse c   \n",
       "1    MRI BREAST BILATERAL WWO  01-01-1990         ax dyn pre   \n",
       "2    MRI BREAST BILATERAL WWO  01-01-1990    ax dyn 3rd pass   \n",
       "3    MRI BREAST BILATERAL WWO  01-01-1990    ax dyn 1st pass   \n",
       "4  MRI BREAST BILATERAL W  WO  01-01-1990              ax t1   \n",
       "\n",
       "         Manufacturer Modality    SOP Class Name              SOP Class UID  \\\n",
       "0             SIEMENS       MR  MR Image Storage  1.2.840.10008.5.1.4.1.1.4   \n",
       "1             SIEMENS       MR  MR Image Storage  1.2.840.10008.5.1.4.1.1.4   \n",
       "2             SIEMENS       MR  MR Image Storage  1.2.840.10008.5.1.4.1.1.4   \n",
       "3             SIEMENS       MR  MR Image Storage  1.2.840.10008.5.1.4.1.1.4   \n",
       "4  GE MEDICAL SYSTEMS       MR  MR Image Storage  1.2.840.10008.5.1.4.1.1.4   \n",
       "\n",
       "   Number of Images File Size  \\\n",
       "0                42   5.60 MB   \n",
       "1               160  64.60 MB   \n",
       "2               160  64.61 MB   \n",
       "3               160  64.61 MB   \n",
       "4                60  31.59 MB   \n",
       "\n",
       "                                       File Location       Download Timestamp  \n",
       "0  ./Duke-Breast-Cancer-MRI/Breast_MRI_001/01-01-...  2022-11-20T08:47:56.032  \n",
       "1  ./Duke-Breast-Cancer-MRI/Breast_MRI_001/01-01-...   2022-11-20T08:48:51.95  \n",
       "2  ./Duke-Breast-Cancer-MRI/Breast_MRI_001/01-01-...  2022-11-20T08:48:54.638  \n",
       "3  ./Duke-Breast-Cancer-MRI/Breast_MRI_001/01-01-...  2022-11-20T08:48:56.832  \n",
       "4  ./Duke-Breast-Cancer-MRI/Breast_MRI_002/01-01-...  2022-11-20T08:49:37.536  "
      ]
     },
     "execution_count": 4,
     "metadata": {},
     "output_type": "execute_result"
    }
   ],
   "source": [
    "bc_mri_metadata = pd.read_csv(duke_bc_data_dir + \"/metadata.csv\")\n",
    "bc_mri_metadata.head(5)"
   ]
  },
  {
   "cell_type": "markdown",
   "id": "57c38825",
   "metadata": {},
   "source": [
    "### Load Breast Cancer Segmentation Filepath Mapping CSV"
   ]
  },
  {
   "cell_type": "code",
   "execution_count": 5,
   "id": "a8088ffe",
   "metadata": {},
   "outputs": [
    {
     "data": {
      "text/html": [
       "<div>\n",
       "<style scoped>\n",
       "    .dataframe tbody tr th:only-of-type {\n",
       "        vertical-align: middle;\n",
       "    }\n",
       "\n",
       "    .dataframe tbody tr th {\n",
       "        vertical-align: top;\n",
       "    }\n",
       "\n",
       "    .dataframe thead th {\n",
       "        text-align: right;\n",
       "    }\n",
       "</style>\n",
       "<table border=\"1\" class=\"dataframe\">\n",
       "  <thead>\n",
       "    <tr style=\"text-align: right;\">\n",
       "      <th></th>\n",
       "      <th>Patient ID</th>\n",
       "      <th>Segmentation Label</th>\n",
       "      <th>Slice File</th>\n",
       "      <th>Full Descriptive Path</th>\n",
       "    </tr>\n",
       "  </thead>\n",
       "  <tbody>\n",
       "    <tr>\n",
       "      <th>0</th>\n",
       "      <td>Breast_MRI_002</td>\n",
       "      <td>Fatty tissue of breast</td>\n",
       "      <td>1-125.dcm</td>\n",
       "      <td>Duke-Breast-Cancer-MRI/Breast_MRI_002/01-01-19...</td>\n",
       "    </tr>\n",
       "    <tr>\n",
       "      <th>1</th>\n",
       "      <td>Breast_MRI_002</td>\n",
       "      <td>Fatty tissue of breast</td>\n",
       "      <td>1-030.dcm</td>\n",
       "      <td>Duke-Breast-Cancer-MRI/Breast_MRI_002/01-01-19...</td>\n",
       "    </tr>\n",
       "    <tr>\n",
       "      <th>2</th>\n",
       "      <td>Breast_MRI_002</td>\n",
       "      <td>Fatty tissue of breast</td>\n",
       "      <td>1-073.dcm</td>\n",
       "      <td>Duke-Breast-Cancer-MRI/Breast_MRI_002/01-01-19...</td>\n",
       "    </tr>\n",
       "    <tr>\n",
       "      <th>3</th>\n",
       "      <td>Breast_MRI_002</td>\n",
       "      <td>Mammary Fibroglandular Tissue</td>\n",
       "      <td>1-116.dcm</td>\n",
       "      <td>Duke-Breast-Cancer-MRI/Breast_MRI_002/01-01-19...</td>\n",
       "    </tr>\n",
       "    <tr>\n",
       "      <th>4</th>\n",
       "      <td>Breast_MRI_002</td>\n",
       "      <td>Mammary Fibroglandular Tissue</td>\n",
       "      <td>1-073.dcm</td>\n",
       "      <td>Duke-Breast-Cancer-MRI/Breast_MRI_002/01-01-19...</td>\n",
       "    </tr>\n",
       "  </tbody>\n",
       "</table>\n",
       "</div>"
      ],
      "text/plain": [
       "       Patient ID             Segmentation Label Slice File  \\\n",
       "0  Breast_MRI_002         Fatty tissue of breast  1-125.dcm   \n",
       "1  Breast_MRI_002         Fatty tissue of breast  1-030.dcm   \n",
       "2  Breast_MRI_002         Fatty tissue of breast  1-073.dcm   \n",
       "3  Breast_MRI_002  Mammary Fibroglandular Tissue  1-116.dcm   \n",
       "4  Breast_MRI_002  Mammary Fibroglandular Tissue  1-073.dcm   \n",
       "\n",
       "                               Full Descriptive Path  \n",
       "0  Duke-Breast-Cancer-MRI/Breast_MRI_002/01-01-19...  \n",
       "1  Duke-Breast-Cancer-MRI/Breast_MRI_002/01-01-19...  \n",
       "2  Duke-Breast-Cancer-MRI/Breast_MRI_002/01-01-19...  \n",
       "3  Duke-Breast-Cancer-MRI/Breast_MRI_002/01-01-19...  \n",
       "4  Duke-Breast-Cancer-MRI/Breast_MRI_002/01-01-19...  "
      ]
     },
     "execution_count": 5,
     "metadata": {},
     "output_type": "execute_result"
    }
   ],
   "source": [
    "bc_seg_file_mapping_df = pd.read_csv(duke_bc_base_dir + os.sep + seg_file_mapping)\n",
    "bc_seg_file_mapping_df.head()"
   ]
  },
  {
   "cell_type": "markdown",
   "id": "0dd08a05",
   "metadata": {},
   "source": [
    "### Load Segmentation Breast & FGT/Blood Vessel Masks Train"
   ]
  },
  {
   "cell_type": "code",
   "execution_count": 6,
   "id": "600c8178",
   "metadata": {},
   "outputs": [],
   "source": [
    "patients = sorted(os.listdir(duke_bc_seg_data_dir))"
   ]
  },
  {
   "cell_type": "code",
   "execution_count": 11,
   "id": "c210a829",
   "metadata": {
    "scrolled": true
   },
   "outputs": [
    {
     "name": "stdout",
     "output_type": "stream",
     "text": [
      "Num Patients: 100\n"
     ]
    },
    {
     "data": {
      "text/plain": [
       "['Breast_MRI_002',\n",
       " 'Breast_MRI_006',\n",
       " 'Breast_MRI_018',\n",
       " 'Breast_MRI_021',\n",
       " 'Breast_MRI_023']"
      ]
     },
     "execution_count": 11,
     "metadata": {},
     "output_type": "execute_result"
    }
   ],
   "source": [
    "print(\"Num Patients: {}\".format(len(patients)))\n",
    "patients[:5]"
   ]
  },
  {
   "cell_type": "code",
   "execution_count": null,
   "id": "c8e946be",
   "metadata": {},
   "outputs": [],
   "source": [
    "## NOTE: Train & Test Split can be done here by patient ids 80/20"
   ]
  },
  {
   "cell_type": "code",
   "execution_count": 8,
   "id": "549cea58",
   "metadata": {
    "scrolled": true
   },
   "outputs": [],
   "source": [
    "train_bc_mask_paths = [sorted(glob(\n",
    "    duke_bc_seg_data_dir + os.sep + patient_id + \"/*seg.nrrd\")\n",
    "                             ) for patient_id in patients]"
   ]
  },
  {
   "cell_type": "code",
   "execution_count": 9,
   "id": "d7bf371e",
   "metadata": {},
   "outputs": [
    {
     "data": {
      "text/plain": [
       "[['/media/james/My Passport/Jetson_TX2_CMPE258/duke-breast-cancer-mri/Duke-Breast-Cancer-MRI-Supplement-v3/Segmentation_Masks_NRRD/Breast_MRI_002/Segmentation_Breast_MRI_002_Breast.seg.nrrd',\n",
       "  '/media/james/My Passport/Jetson_TX2_CMPE258/duke-breast-cancer-mri/Duke-Breast-Cancer-MRI-Supplement-v3/Segmentation_Masks_NRRD/Breast_MRI_002/Segmentation_Breast_MRI_002_Dense_and_Vessels.seg.nrrd'],\n",
       " ['/media/james/My Passport/Jetson_TX2_CMPE258/duke-breast-cancer-mri/Duke-Breast-Cancer-MRI-Supplement-v3/Segmentation_Masks_NRRD/Breast_MRI_006/Segmentation_Breast_MRI_006_Breast.seg.nrrd',\n",
       "  '/media/james/My Passport/Jetson_TX2_CMPE258/duke-breast-cancer-mri/Duke-Breast-Cancer-MRI-Supplement-v3/Segmentation_Masks_NRRD/Breast_MRI_006/Segmentation_Breast_MRI_006_Dense_and_Vessels.seg.nrrd'],\n",
       " ['/media/james/My Passport/Jetson_TX2_CMPE258/duke-breast-cancer-mri/Duke-Breast-Cancer-MRI-Supplement-v3/Segmentation_Masks_NRRD/Breast_MRI_018/Segmentation_Breast_MRI_018_Breast.seg.nrrd',\n",
       "  '/media/james/My Passport/Jetson_TX2_CMPE258/duke-breast-cancer-mri/Duke-Breast-Cancer-MRI-Supplement-v3/Segmentation_Masks_NRRD/Breast_MRI_018/Segmentation_Breast_MRI_018_Dense_and_Vessels.seg.nrrd'],\n",
       " ['/media/james/My Passport/Jetson_TX2_CMPE258/duke-breast-cancer-mri/Duke-Breast-Cancer-MRI-Supplement-v3/Segmentation_Masks_NRRD/Breast_MRI_021/Segmentation_Breast_MRI_021_Breast.seg.nrrd',\n",
       "  '/media/james/My Passport/Jetson_TX2_CMPE258/duke-breast-cancer-mri/Duke-Breast-Cancer-MRI-Supplement-v3/Segmentation_Masks_NRRD/Breast_MRI_021/Segmentation_Breast_MRI_021_Dense_and_Vessels.seg.nrrd'],\n",
       " ['/media/james/My Passport/Jetson_TX2_CMPE258/duke-breast-cancer-mri/Duke-Breast-Cancer-MRI-Supplement-v3/Segmentation_Masks_NRRD/Breast_MRI_023/Segmentation_Breast_MRI_023_Breast.seg.nrrd',\n",
       "  '/media/james/My Passport/Jetson_TX2_CMPE258/duke-breast-cancer-mri/Duke-Breast-Cancer-MRI-Supplement-v3/Segmentation_Masks_NRRD/Breast_MRI_023/Segmentation_Breast_MRI_023_Dense_and_Vessels.seg.nrrd']]"
      ]
     },
     "execution_count": 9,
     "metadata": {},
     "output_type": "execute_result"
    }
   ],
   "source": [
    "train_bc_mask_paths[:5]"
   ]
  },
  {
   "cell_type": "code",
   "execution_count": null,
   "id": "636e18f1",
   "metadata": {},
   "outputs": [],
   "source": []
  },
  {
   "cell_type": "code",
   "execution_count": null,
   "id": "1cd80ec4",
   "metadata": {},
   "outputs": [],
   "source": []
  }
 ],
 "metadata": {
  "kernelspec": {
   "display_name": "Python 3 (ipykernel)",
   "language": "python",
   "name": "python3"
  },
  "language_info": {
   "codemirror_mode": {
    "name": "ipython",
    "version": 3
   },
   "file_extension": ".py",
   "mimetype": "text/x-python",
   "name": "python",
   "nbconvert_exporter": "python",
   "pygments_lexer": "ipython3",
   "version": "3.9.0"
  }
 },
 "nbformat": 4,
 "nbformat_minor": 5
}
