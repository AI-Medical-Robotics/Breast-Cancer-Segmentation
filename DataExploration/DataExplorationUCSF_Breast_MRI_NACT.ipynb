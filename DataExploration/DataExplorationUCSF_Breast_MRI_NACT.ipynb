{
 "cells": [
  {
   "cell_type": "markdown",
   "id": "92935e53",
   "metadata": {},
   "source": [
    "# Data Exporation UCSF Breast MRI NACT\n",
    "\n",
    "We will use `UCSF's Breast Cancer MRI NACT Pilot` dataset since it also has segmentation masks:\n",
    "\n",
    "- Single site breast DCE-MRI data and segmentations from patients undergoing neoadjuvant chemotherapy (Breast-MRI-NACT-Pilot): https://wiki.cancerimagingarchive.net/pages/viewpage.action?pageId=22513764\n"
   ]
  },
  {
   "cell_type": "code",
   "execution_count": 2,
   "id": "5c648901",
   "metadata": {},
   "outputs": [],
   "source": [
    "import pandas as pd\n",
    "import numpy as np\n",
    "import os\n",
    "import pydicom as dicom\n",
    "from tqdm import tqdm\n",
    "from skimage.io import imsave\n",
    "import matplotlib.pylab as plt"
   ]
  },
  {
   "cell_type": "code",
   "execution_count": 6,
   "id": "d40054b6",
   "metadata": {},
   "outputs": [
    {
     "data": {
      "text/html": [
       "<div>\n",
       "<style scoped>\n",
       "    .dataframe tbody tr th:only-of-type {\n",
       "        vertical-align: middle;\n",
       "    }\n",
       "\n",
       "    .dataframe tbody tr th {\n",
       "        vertical-align: top;\n",
       "    }\n",
       "\n",
       "    .dataframe thead th {\n",
       "        text-align: right;\n",
       "    }\n",
       "</style>\n",
       "<table border=\"1\" class=\"dataframe\">\n",
       "  <thead>\n",
       "    <tr style=\"text-align: right;\">\n",
       "      <th></th>\n",
       "      <th>0</th>\n",
       "      <th>1</th>\n",
       "    </tr>\n",
       "  </thead>\n",
       "  <tbody>\n",
       "    <tr>\n",
       "      <th>0</th>\n",
       "      <td>2016-01-12</td>\n",
       "      <td>Clinical, pathologic, and recurrence free surv...</td>\n",
       "    </tr>\n",
       "    <tr>\n",
       "      <th>1</th>\n",
       "      <td>NaT</td>\n",
       "      <td>Image data may be found on TCIA:\\nhttps://publ...</td>\n",
       "    </tr>\n",
       "    <tr>\n",
       "      <th>2</th>\n",
       "      <td>NaT</td>\n",
       "      <td>For more information on this data collection s...</td>\n",
       "    </tr>\n",
       "    <tr>\n",
       "      <th>3</th>\n",
       "      <td>NaT</td>\n",
       "      <td>Data provided by the Breast imaging Research P...</td>\n",
       "    </tr>\n",
       "    <tr>\n",
       "      <th>4</th>\n",
       "      <td>NaT</td>\n",
       "      <td>contact: birp@ucsf.edu</td>\n",
       "    </tr>\n",
       "    <tr>\n",
       "      <th>5</th>\n",
       "      <td>NaT</td>\n",
       "      <td>Supported by grants:\\nNational Institute of He...</td>\n",
       "    </tr>\n",
       "    <tr>\n",
       "      <th>6</th>\n",
       "      <td>NaT</td>\n",
       "      <td>NaN</td>\n",
       "    </tr>\n",
       "    <tr>\n",
       "      <th>7</th>\n",
       "      <td>NaT</td>\n",
       "      <td>NaN</td>\n",
       "    </tr>\n",
       "    <tr>\n",
       "      <th>8</th>\n",
       "      <td>NaT</td>\n",
       "      <td>NaN</td>\n",
       "    </tr>\n",
       "    <tr>\n",
       "      <th>9</th>\n",
       "      <td>2016-04-05</td>\n",
       "      <td>Added   Race  and binary \"Caucasian race\" columns</td>\n",
       "    </tr>\n",
       "  </tbody>\n",
       "</table>\n",
       "</div>"
      ],
      "text/plain": [
       "           0                                                  1\n",
       "0 2016-01-12  Clinical, pathologic, and recurrence free surv...\n",
       "1        NaT  Image data may be found on TCIA:\\nhttps://publ...\n",
       "2        NaT  For more information on this data collection s...\n",
       "3        NaT  Data provided by the Breast imaging Research P...\n",
       "4        NaT                             contact: birp@ucsf.edu\n",
       "5        NaT  Supported by grants:\\nNational Institute of He...\n",
       "6        NaT                                                NaN\n",
       "7        NaT                                                NaN\n",
       "8        NaT                                                NaN\n",
       "9 2016-04-05  Added   Race  and binary \"Caucasian race\" columns"
      ]
     },
     "execution_count": 6,
     "metadata": {},
     "output_type": "execute_result"
    }
   ],
   "source": [
    "clinical_rfs = pd.read_excel(\"/media/james/My Passport/Jetson_TX2_CMPE258/breast-mri-nact-pilot-ucsf/SharedClinicalAndRFS.xls\", index_col=None, header=None)\n",
    "clinical_rfs.head(10)"
   ]
  },
  {
   "cell_type": "code",
   "execution_count": 9,
   "id": "bd942120",
   "metadata": {},
   "outputs": [
    {
     "data": {
      "text/html": [
       "<div>\n",
       "<style scoped>\n",
       "    .dataframe tbody tr th:only-of-type {\n",
       "        vertical-align: middle;\n",
       "    }\n",
       "\n",
       "    .dataframe tbody tr th {\n",
       "        vertical-align: top;\n",
       "    }\n",
       "\n",
       "    .dataframe thead th {\n",
       "        text-align: right;\n",
       "    }\n",
       "</style>\n",
       "<table border=\"1\" class=\"dataframe\">\n",
       "  <thead>\n",
       "    <tr style=\"text-align: right;\">\n",
       "      <th></th>\n",
       "      <th>Series UID</th>\n",
       "      <th>Collection</th>\n",
       "      <th>3rd Party Analysis</th>\n",
       "      <th>Data Description URI</th>\n",
       "      <th>Subject ID</th>\n",
       "      <th>Study UID</th>\n",
       "      <th>Study Description</th>\n",
       "      <th>Study Date</th>\n",
       "      <th>Series Description</th>\n",
       "      <th>Manufacturer</th>\n",
       "      <th>Modality</th>\n",
       "      <th>SOP Class Name</th>\n",
       "      <th>SOP Class UID</th>\n",
       "      <th>Number of Images</th>\n",
       "      <th>File Size</th>\n",
       "      <th>File Location</th>\n",
       "      <th>Download Timestamp</th>\n",
       "    </tr>\n",
       "  </thead>\n",
       "  <tbody>\n",
       "    <tr>\n",
       "      <th>0</th>\n",
       "      <td>1.3.6.1.4.1.14519.5.2.1.7695.2311.101194443955...</td>\n",
       "      <td>Breast-MRI-NACT-Pilot</td>\n",
       "      <td>NaN</td>\n",
       "      <td>https://doi.org/10.7937/K9/TCIA.2016.QHSYHJKY</td>\n",
       "      <td>UCSF-BR-01</td>\n",
       "      <td>1.3.6.1.4.1.14519.5.2.1.7695.2311.106039727348...</td>\n",
       "      <td>MR BREAST</td>\n",
       "      <td>03-29-1990</td>\n",
       "      <td>Axial-T1 locator</td>\n",
       "      <td>GE MEDICAL SYSTEMS</td>\n",
       "      <td>MR</td>\n",
       "      <td>MR Image Storage</td>\n",
       "      <td>1.2.840.10008.5.1.4.1.1.4</td>\n",
       "      <td>15</td>\n",
       "      <td>2.03 MB</td>\n",
       "      <td>./Breast-MRI-NACT-Pilot/UCSF-BR-01/03-29-1990-...</td>\n",
       "      <td>2022-11-20T09:02:12.576</td>\n",
       "    </tr>\n",
       "    <tr>\n",
       "      <th>1</th>\n",
       "      <td>1.3.6.1.4.1.14519.5.2.1.7695.2311.137037889646...</td>\n",
       "      <td>Breast-MRI-NACT-Pilot</td>\n",
       "      <td>NaN</td>\n",
       "      <td>https://doi.org/10.7937/K9/TCIA.2016.QHSYHJKY</td>\n",
       "      <td>UCSF-BR-01</td>\n",
       "      <td>1.3.6.1.4.1.14519.5.2.1.7695.2311.106039727348...</td>\n",
       "      <td>MR BREAST</td>\n",
       "      <td>03-29-1990</td>\n",
       "      <td>Sagittal-IR3DFGRE PE1</td>\n",
       "      <td>GE MEDICAL SYSTEMS</td>\n",
       "      <td>MR</td>\n",
       "      <td>MR Image Storage</td>\n",
       "      <td>1.2.840.10008.5.1.4.1.1.4</td>\n",
       "      <td>60</td>\n",
       "      <td>8.20 MB</td>\n",
       "      <td>./Breast-MRI-NACT-Pilot/UCSF-BR-01/03-29-1990-...</td>\n",
       "      <td>2022-11-20T09:02:12.913</td>\n",
       "    </tr>\n",
       "    <tr>\n",
       "      <th>2</th>\n",
       "      <td>1.3.6.1.4.1.14519.5.2.1.7695.2311.156797220483...</td>\n",
       "      <td>Breast-MRI-NACT-Pilot</td>\n",
       "      <td>NaN</td>\n",
       "      <td>https://doi.org/10.7937/K9/TCIA.2016.QHSYHJKY</td>\n",
       "      <td>UCSF-BR-01</td>\n",
       "      <td>1.3.6.1.4.1.14519.5.2.1.7695.2311.106039727348...</td>\n",
       "      <td>MR BREAST</td>\n",
       "      <td>03-29-1990</td>\n",
       "      <td>PJN</td>\n",
       "      <td>GE MEDICAL SYSTEMS</td>\n",
       "      <td>MR</td>\n",
       "      <td>MR Image Storage</td>\n",
       "      <td>1.2.840.10008.5.1.4.1.1.4</td>\n",
       "      <td>12</td>\n",
       "      <td>6.34 MB</td>\n",
       "      <td>./Breast-MRI-NACT-Pilot/UCSF-BR-01/03-29-1990-...</td>\n",
       "      <td>2022-11-20T09:02:18.171</td>\n",
       "    </tr>\n",
       "    <tr>\n",
       "      <th>3</th>\n",
       "      <td>1.3.6.1.4.1.14519.5.2.1.7695.2311.129507084162...</td>\n",
       "      <td>Breast-MRI-NACT-Pilot</td>\n",
       "      <td>NaN</td>\n",
       "      <td>https://doi.org/10.7937/K9/TCIA.2016.QHSYHJKY</td>\n",
       "      <td>UCSF-BR-01</td>\n",
       "      <td>1.3.6.1.4.1.14519.5.2.1.7695.2311.106039727348...</td>\n",
       "      <td>MR BREAST</td>\n",
       "      <td>03-29-1990</td>\n",
       "      <td>PJN</td>\n",
       "      <td>GE MEDICAL SYSTEMS</td>\n",
       "      <td>MR</td>\n",
       "      <td>MR Image Storage</td>\n",
       "      <td>1.2.840.10008.5.1.4.1.1.4</td>\n",
       "      <td>12</td>\n",
       "      <td>6.34 MB</td>\n",
       "      <td>./Breast-MRI-NACT-Pilot/UCSF-BR-01/03-29-1990-...</td>\n",
       "      <td>2022-11-20T09:02:20.006</td>\n",
       "    </tr>\n",
       "    <tr>\n",
       "      <th>4</th>\n",
       "      <td>1.3.6.1.4.1.14519.5.2.1.7695.2311.212775144500...</td>\n",
       "      <td>Breast-MRI-NACT-Pilot</td>\n",
       "      <td>NaN</td>\n",
       "      <td>https://doi.org/10.7937/K9/TCIA.2016.QHSYHJKY</td>\n",
       "      <td>UCSF-BR-01</td>\n",
       "      <td>1.3.6.1.4.1.14519.5.2.1.7695.2311.106039727348...</td>\n",
       "      <td>MR BREAST</td>\n",
       "      <td>03-29-1990</td>\n",
       "      <td>PJN</td>\n",
       "      <td>GE MEDICAL SYSTEMS</td>\n",
       "      <td>MR</td>\n",
       "      <td>MR Image Storage</td>\n",
       "      <td>1.2.840.10008.5.1.4.1.1.4</td>\n",
       "      <td>12</td>\n",
       "      <td>6.34 MB</td>\n",
       "      <td>./Breast-MRI-NACT-Pilot/UCSF-BR-01/03-29-1990-...</td>\n",
       "      <td>2022-11-20T09:02:23.858</td>\n",
       "    </tr>\n",
       "  </tbody>\n",
       "</table>\n",
       "</div>"
      ],
      "text/plain": [
       "                                          Series UID             Collection  \\\n",
       "0  1.3.6.1.4.1.14519.5.2.1.7695.2311.101194443955...  Breast-MRI-NACT-Pilot   \n",
       "1  1.3.6.1.4.1.14519.5.2.1.7695.2311.137037889646...  Breast-MRI-NACT-Pilot   \n",
       "2  1.3.6.1.4.1.14519.5.2.1.7695.2311.156797220483...  Breast-MRI-NACT-Pilot   \n",
       "3  1.3.6.1.4.1.14519.5.2.1.7695.2311.129507084162...  Breast-MRI-NACT-Pilot   \n",
       "4  1.3.6.1.4.1.14519.5.2.1.7695.2311.212775144500...  Breast-MRI-NACT-Pilot   \n",
       "\n",
       "   3rd Party Analysis                           Data Description URI  \\\n",
       "0                 NaN  https://doi.org/10.7937/K9/TCIA.2016.QHSYHJKY   \n",
       "1                 NaN  https://doi.org/10.7937/K9/TCIA.2016.QHSYHJKY   \n",
       "2                 NaN  https://doi.org/10.7937/K9/TCIA.2016.QHSYHJKY   \n",
       "3                 NaN  https://doi.org/10.7937/K9/TCIA.2016.QHSYHJKY   \n",
       "4                 NaN  https://doi.org/10.7937/K9/TCIA.2016.QHSYHJKY   \n",
       "\n",
       "   Subject ID                                          Study UID  \\\n",
       "0  UCSF-BR-01  1.3.6.1.4.1.14519.5.2.1.7695.2311.106039727348...   \n",
       "1  UCSF-BR-01  1.3.6.1.4.1.14519.5.2.1.7695.2311.106039727348...   \n",
       "2  UCSF-BR-01  1.3.6.1.4.1.14519.5.2.1.7695.2311.106039727348...   \n",
       "3  UCSF-BR-01  1.3.6.1.4.1.14519.5.2.1.7695.2311.106039727348...   \n",
       "4  UCSF-BR-01  1.3.6.1.4.1.14519.5.2.1.7695.2311.106039727348...   \n",
       "\n",
       "  Study Description  Study Date     Series Description        Manufacturer  \\\n",
       "0         MR BREAST  03-29-1990       Axial-T1 locator  GE MEDICAL SYSTEMS   \n",
       "1         MR BREAST  03-29-1990  Sagittal-IR3DFGRE PE1  GE MEDICAL SYSTEMS   \n",
       "2         MR BREAST  03-29-1990                    PJN  GE MEDICAL SYSTEMS   \n",
       "3         MR BREAST  03-29-1990                    PJN  GE MEDICAL SYSTEMS   \n",
       "4         MR BREAST  03-29-1990                    PJN  GE MEDICAL SYSTEMS   \n",
       "\n",
       "  Modality    SOP Class Name              SOP Class UID  Number of Images  \\\n",
       "0       MR  MR Image Storage  1.2.840.10008.5.1.4.1.1.4                15   \n",
       "1       MR  MR Image Storage  1.2.840.10008.5.1.4.1.1.4                60   \n",
       "2       MR  MR Image Storage  1.2.840.10008.5.1.4.1.1.4                12   \n",
       "3       MR  MR Image Storage  1.2.840.10008.5.1.4.1.1.4                12   \n",
       "4       MR  MR Image Storage  1.2.840.10008.5.1.4.1.1.4                12   \n",
       "\n",
       "  File Size                                      File Location  \\\n",
       "0   2.03 MB  ./Breast-MRI-NACT-Pilot/UCSF-BR-01/03-29-1990-...   \n",
       "1   8.20 MB  ./Breast-MRI-NACT-Pilot/UCSF-BR-01/03-29-1990-...   \n",
       "2   6.34 MB  ./Breast-MRI-NACT-Pilot/UCSF-BR-01/03-29-1990-...   \n",
       "3   6.34 MB  ./Breast-MRI-NACT-Pilot/UCSF-BR-01/03-29-1990-...   \n",
       "4   6.34 MB  ./Breast-MRI-NACT-Pilot/UCSF-BR-01/03-29-1990-...   \n",
       "\n",
       "        Download Timestamp  \n",
       "0  2022-11-20T09:02:12.576  \n",
       "1  2022-11-20T09:02:12.913  \n",
       "2  2022-11-20T09:02:18.171  \n",
       "3  2022-11-20T09:02:20.006  \n",
       "4  2022-11-20T09:02:23.858  "
      ]
     },
     "execution_count": 9,
     "metadata": {},
     "output_type": "execute_result"
    }
   ],
   "source": [
    "breast_mri_nact_clinical = pd.read_csv(\"/media/james/My Passport/Jetson_TX2_CMPE258/breast-mri-nact-pilot-ucsf/imgs_and_seg_dicom/manifest-RbPGRCVv7392292744865323559/metadata.csv\")\n",
    "breast_mri_nact_clinical.head(5)"
   ]
  },
  {
   "cell_type": "markdown",
   "id": "9ada0deb",
   "metadata": {},
   "source": [
    "## Load Breast Cancer MRI Data"
   ]
  },
  {
   "cell_type": "code",
   "execution_count": null,
   "id": "799d8e68",
   "metadata": {},
   "outputs": [],
   "source": [
    "pe_seg_mri_path = \"/media/james/My Passport/Jetson_TX2_CMPE258/breast-mri-nact-pilot-ucsf/imgs_and_seg_dicom/manifest-RbPGRCVv7392292744865323559/Breast-MRI-NACT-Pilot/UCSF-BR-01/03-29-1990-218019-MR BREAST-74237/42000.000000-PE Segmentation thresh70-70064/1-1.dcm\"\n",
    "pe_seg_mri_ds = dicom.dcmread(pe_seg_mri_path)\n",
    "\n",
    "breast_tissue_seg_path = \"/media/james/My Passport/Jetson_TX2_CMPE258/breast-mri-nact-pilot-ucsf/imgs_and_seg_dicom/manifest-RbPGRCVv7392292744865323559/Breast-MRI-NACT-Pilot/UCSF-BR-01/03-29-1990-218019-MR BREAST-74237/42001.000000-Breast Tissue Segmentation-38497/1-1.dcm\"\n",
    "breast_tissue_seg_ds = dicom.dcmread(breast_tissue_seg_path)"
   ]
  },
  {
   "cell_type": "code",
   "execution_count": 30,
   "id": "1e5b0987",
   "metadata": {},
   "outputs": [
    {
     "data": {
      "text/plain": [
       "(60, 256, 256)"
      ]
     },
     "execution_count": 30,
     "metadata": {},
     "output_type": "execute_result"
    }
   ],
   "source": [
    "pe_seg_mri_ds.pixel_array.shape"
   ]
  },
  {
   "cell_type": "code",
   "execution_count": 34,
   "id": "d31130c1",
   "metadata": {},
   "outputs": [
    {
     "data": {
      "text/plain": [
       "256"
      ]
     },
     "execution_count": 34,
     "metadata": {},
     "output_type": "execute_result"
    }
   ],
   "source": [
    "breast_tissue_seg_ds.pixel_array.shape[2]"
   ]
  },
  {
   "cell_type": "markdown",
   "id": "92342881",
   "metadata": {},
   "source": [
    "## Visualize a Breast Cancer MRI with Mask Slice from 3D MRI\n",
    "\n",
    "Our breast cancer MRI is `60x256` and has `256` MRI slices to make up the 3D MRI."
   ]
  },
  {
   "cell_type": "code",
   "execution_count": 48,
   "id": "77551894",
   "metadata": {},
   "outputs": [
    {
     "data": {
      "image/png": "[encoded data removed]",
      "text/plain": [
       "<Figure size 640x480 with 1 Axes>"
      ]
     },
     "metadata": {},
     "output_type": "display_data"
    }
   ],
   "source": [
    "slice2show = 110\n",
    "num_mri_slices = breast_tissue_seg_ds.pixel_array.shape[2]\n",
    "\n",
    "# for slice2show in range(num_mri_slices, 20):\n",
    "fig = plt.figure()\n",
    "plt.imshow(breast_tissue_seg_ds.pixel_array[:,:,slice2show], cmap=plt.cm.gray)\n",
    "plt.imshow(pe_seg_mri_ds.pixel_array[:,:,slice2show], alpha=0.5, cmap=plt.cm.copper)\n",
    "fig.suptitle(\"MRI with Mask for MRI Slice 110: Ex_Case={} Lesion\".format(\"UCSF-BR-01\"))\n",
    "fig.tight_layout()\n",
    "fig.subplots_adjust(top=1.5)\n",
    "#     plt.show()"
   ]
  },
  {
   "cell_type": "code",
   "execution_count": 43,
   "id": "3b364a37",
   "metadata": {},
   "outputs": [],
   "source": []
  },
  {
   "cell_type": "code",
   "execution_count": null,
   "id": "0ce48070",
   "metadata": {},
   "outputs": [],
   "source": []
  }
 ],
 "metadata": {
  "kernelspec": {
   "display_name": "Python 3 (ipykernel)",
   "language": "python",
   "name": "python3"
  },
  "language_info": {
   "codemirror_mode": {
    "name": "ipython",
    "version": 3
   },
   "file_extension": ".py",
   "mimetype": "text/x-python",
   "name": "python",
   "nbconvert_exporter": "python",
   "pygments_lexer": "ipython3",
   "version": "3.8.15"
  }
 },
 "nbformat": 4,
 "nbformat_minor": 5
}
